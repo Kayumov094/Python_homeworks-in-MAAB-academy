{
 "cells": [
  {
   "cell_type": "markdown",
   "id": "894a65d5",
   "metadata": {},
   "source": [
    "1. Age Calculator\n",
    "Write a Python program to ask for a user's name and year of birth, then calculate and display their age.\n",
    " "
   ]
  },
  {
   "cell_type": "code",
   "execution_count": null,
   "id": "2f8bf805",
   "metadata": {},
   "outputs": [
    {
     "name": "stdout",
     "output_type": "stream",
     "text": [
      "Siz 25 yoshdasiz\n"
     ]
    }
   ],
   "source": [
    "# yoshni hisoblovchi dastur\n",
    "yil = int(input(\"Iltimos tugilgan tilingizni kiriting:\")) # foydalanuvchidan yil qabul qilamiz\n",
    "if yil <0 or yil > 2025:                                    # kiritilgan yilni 0 dan kichik yoki 2025 dan katta bo'lsa xatolik beradi\n",
    "    print(\"Siz noto'gri yil kirityapsiz\")                    # xatolik haqida ogohlantiradi\n",
    "else:\n",
    "    yosh = 2025 - yil                                       # yoshni hisoblab olamiz\n",
    "    print(f\"Siz {yosh} yoshdasiz\")\n"
   ]
  },
  {
   "cell_type": "markdown",
   "id": "9dbfdce0",
   "metadata": {},
   "source": [
    "2. Avtomobil nomlarini ajratib oling\n",
    "Quyidagi matndan avtomobil nomlarini ajratib oling:"
   ]
  },
  {
   "cell_type": "code",
   "execution_count": null,
   "id": "7bbc8e8f",
   "metadata": {},
   "outputs": [
    {
     "name": "stdout",
     "output_type": "stream",
     "text": [
      "Lasetti\n",
      "ittesaL\n"
     ]
    }
   ],
   "source": [
    "txt = 'LMaasleitbtui'\n",
    "print(txt[::2])                                 # boshidan oxirigacha 2 qadam bilan olib ber\n"
   ]
  },
  {
   "cell_type": "markdown",
   "id": "6b399ce6",
   "metadata": {},
   "source": [
    "3. Avtomobil nomlarini ajratib oling\n",
    "Quyidagi matndan avtomobil nomlarini ajratib oling:"
   ]
  },
  {
   "cell_type": "code",
   "execution_count": null,
   "id": "291549ca",
   "metadata": {},
   "outputs": [
    {
     "name": "stdout",
     "output_type": "stream",
     "text": [
      "Damas\n"
     ]
    }
   ],
   "source": [
    "txt = 'MsaatmiazD'\n",
    "print(txt[:: -2])                                #oxiridan boshlab boshigacha har 2 qadam bilan kesib ber"
   ]
  },
  {
   "cell_type": "markdown",
   "id": "7fe3b00e",
   "metadata": {},
   "source": [
    "4. Yashash maydonini chiqarish\n",
    "Quyidagi matndan yashash joyini ajratib oling:"
   ]
  },
  {
   "cell_type": "code",
   "execution_count": null,
   "id": "749857ca",
   "metadata": {},
   "outputs": [
    {
     "name": "stdout",
     "output_type": "stream",
     "text": [
      "London\n"
     ]
    }
   ],
   "source": [
    "txt = \"I'am John. I am from London\"\n",
    "new_txt = txt.split()                           # matnni so'zlarga ajratib oldim\n",
    "print(new_txt[-1])                              # ajratilgan so'zlarni oxirgidini chiqarib oldim "
   ]
  },
  {
   "cell_type": "markdown",
   "id": "631ebc6c",
   "metadata": {},
   "source": [
    "5. Teskari satr\n",
    "Foydalanuvchi kiritish satrini oladigan va uni teskari tartibda chop etadigan Python dasturini yozing.\n"
   ]
  },
  {
   "cell_type": "code",
   "execution_count": null,
   "id": "b9ec87bc",
   "metadata": {},
   "outputs": [
    {
     "name": "stdout",
     "output_type": "stream",
     "text": [
      "daer\n"
     ]
    }
   ],
   "source": [
    "#Teskarisini toopish dasturi \n",
    "word  = input(\"Iltimos biror so'zni kiriting:\") # foydalanuvchidan so'z qabul qilamiz\n",
    "print(word[::-1])                               #kiritilgan so'zni teskarisini chiqarib beradi"
   ]
  },
  {
   "cell_type": "markdown",
   "id": "182251bc",
   "metadata": {},
   "source": [
    "6. Sanoq unlilari\n",
    "Berilgan qatordagi unlilar sonini hisoblaydigan Python dasturini yozing."
   ]
  },
  {
   "cell_type": "code",
   "execution_count": null,
   "id": "dcae100a",
   "metadata": {},
   "outputs": [
    {
     "name": "stdout",
     "output_type": "stream",
     "text": [
      "Kiritgan so'zda:  \n",
      "a = 4 \n",
      "e = 3 \n",
      "i = 2 \n",
      "o = 3 \n",
      "u = 4\n",
      "Sizning so'zingizda jami 16 ta unli harflar bor\n"
     ]
    }
   ],
   "source": [
    "#Unlilar sonini hisoblovchi dastur\n",
    "word  = input(\"Iltimos biror so'zni kriting:\") # foydalanuvchidan so'z qabul qilamiz\n",
    "word = word.lower()                             # yozivni kichik harflarga o'tkazib oldim \n",
    "print(f\"Kiritgan so'zda:\\na = {word.count('a')} \\ne = {word.count('e')} \\ni = {word.count('i')} \\no = {word.count('o')} \\nu = {word.count('u')}\")\n",
    "print(f\"Sizning so'zingizda jami {word.count('a') + word.count('e') + word.count('i') + word.count('o') + word.count('u')} ta unli harflar bor\")"
   ]
  },
  {
   "cell_type": "markdown",
   "id": "bee35a47",
   "metadata": {},
   "source": [
    "7. Maksimal qiymatni toping\n",
    "Raqamlar ro'yxatini kirish sifatida qabul qiladigan va maksimal qiymatni chop etadigan Python dasturini yozing."
   ]
  },
  {
   "cell_type": "code",
   "execution_count": null,
   "id": "cade98c4",
   "metadata": {},
   "outputs": [
    {
     "name": "stdout",
     "output_type": "stream",
     "text": [
      "Krirtilgan sonning eng kattasi 25\n"
     ]
    }
   ],
   "source": [
    "number_1  = int(input(\"Iltimos birinchi son kiriting:\"))     # foydalanuvchidan son qabul qilamiz\n",
    "number_2  = int(input(\"Ikkinchi sonni kiriting:\"))           # foydalanuvchidan son qabul qilamiz\n",
    "number_3 = int(input(\"Uchinchi sonni kiriting\"))             # foydalanuvchidan son qabul qilamiz\n",
    "if number_1 > number_2 and number_1 > number_3:\n",
    "    print(f\"Krirtilgan sonning eng kattasi {number_1}\")       # kiritilgan sonlarni solishtirib eng kattasini chiqarib beradi\n",
    "elif number_2 > number_1 and number_2 > number_3:\n",
    "    print(f\"Krirtilgan sonning eng kattasi {number_2}\")      # kiritilgan sonlarni solishtirib eng kattasini chiqarib beradi\n",
    "else:\n",
    "    print(f\"Krirtilgan sonning eng kattasi {number_3}\")      # kiritilgan sonlarni solishtirib eng kattasini chiqarib beradi\n",
    "\n"
   ]
  },
  {
   "cell_type": "markdown",
   "id": "c16b5359",
   "metadata": {},
   "source": [
    "8. Palindromni tekshiring\n",
    "Berilgan so'zning palindrom ekanligini tekshiradigan Python dasturini yozing (bir xil oldinga va orqaga o'qiydi)."
   ]
  },
  {
   "cell_type": "code",
   "execution_count": null,
   "id": "5846e04c",
   "metadata": {},
   "outputs": [
    {
     "name": "stdout",
     "output_type": "stream",
     "text": [
      "Kiritilgan so'z palindrom emas\n"
     ]
    }
   ],
   "source": [
    "palindrom = input(\"Ixtiyoriy so'zni kiriting:\")                      # foydalanuvchidan so'z qabul qilamiz\n",
    "palindrom = palindrom.lower()                                        # kiritilgan so'zni kichik harflarga o'tkazib oldim\n",
    "if palindrom == palindrom[::-1]:\n",
    "    print(f\"Bu kiritgan so'z Palindrom : {palindrom[:: -1]}\")        # kiritilgan so'zni teskarisi bilan solishtirib palindrom ekanligini tekshiradi\n",
    "else: \n",
    "    print(\"Kiritilgan so'z palindrom emas\")                          # kiritilgan so'z palindrom emasligini chiqaradi"
   ]
  },
  {
   "cell_type": "markdown",
   "id": "15aa48f8",
   "metadata": {},
   "source": [
    "9. Elektron pochta domenini chiqarib oling\n",
    "Foydalanuvchi tomonidan taqdim etilgan elektron pochta manzilidan domenni ajratib oladigan va chop etadigan Python dasturini yozing."
   ]
  },
  {
   "cell_type": "code",
   "execution_count": null,
   "id": "3861f5f6",
   "metadata": {},
   "outputs": [
    {
     "name": "stdout",
     "output_type": "stream",
     "text": [
      "Sizning domeningiz: uz\n"
     ]
    }
   ],
   "source": [
    "# email domeninini topish dasturi: # aslonbekqayumov094@gamil.com \n",
    "domen  = input(\"Iltimos Email manzilingizni kiriting:\")   # foydalanuvchidan qabuyl qilamiz \n",
    "index = domen.find(\".\")                                   # domen ichidagi unikal belgini indexni topamiz\n",
    "domen_final = domen[domen.find(\".\") +1 :]                 # domenni kesib olib dome_final degan o'zgaruvchiga yukladim\n",
    "print(f\"Sizning domeningiz: {domen_final}\")               # domenni chop qilamiz "
   ]
  },
  {
   "cell_type": "markdown",
   "id": "552efc05",
   "metadata": {},
   "source": [
    "10. Tasodifiy parol yarating\n",
    "Harflar, raqamlar va maxsus belgilarni o'z ichiga olgan tasodifiy parolni yaratish uchun Python dasturini yozing"
   ]
  },
  {
   "cell_type": "code",
   "execution_count": null,
   "id": "443c5bb1",
   "metadata": {},
   "outputs": [
    {
     "name": "stdout",
     "output_type": "stream",
     "text": [
      "<module 'string' from 'c:\\\\ProgramData\\\\anaconda3\\\\Lib\\\\string.py'>\n",
      "0123456789\n",
      "!\"#$%&'()*+,-./:;<=>?@[\\]^_`{|}~\n",
      "32\n",
      "Sizning tasodifiy parolingiz: (&Kt>W;^+_\n"
     ]
    }
   ],
   "source": [
    "import random                                       # random kurubxonasini import qilib oldim \n",
    "import string                                       # string kutubxonasini import qilib oldim \n",
    " \n",
    "strings  = string.ascii_letters                     #barcha katta va kichik harflarni chiqarib strings degan o'zagruvchiga yukladim\n",
    "digits = string.digits                              #barcha raqamlarni chaqiri digits degan o'garuvchiga yuklab oldim \n",
    "punctuations = string.punctuation                   #barcha belgilarni chaqirib punctuations degan o'zgaruvchiga yuklab oldim \n",
    "all_characters = strings + digits + punctuations    #barcha belgilarni qo'shib chiqdim \n",
    "\n",
    "password_length = 10                                #parol uzunligini belgilab oldim \n",
    "password = \"\".join(random.choice(all_characters) for _ in range(password_length)) \n",
    "#                                                    10 marta loop aylantirib, all_charactersdan bittadan har aylanganda bittadan belgi tanlab oldim \n",
    "print(f\"Sizning tasodifiy parolingiz: {password}\")  # tayyor bolgan passwordni print qildim"
   ]
  },
  {
   "cell_type": "code",
   "execution_count": null,
   "id": "e8f72519",
   "metadata": {},
   "outputs": [],
   "source": []
  },
  {
   "cell_type": "code",
   "execution_count": null,
   "id": "32c36e3f",
   "metadata": {},
   "outputs": [],
   "source": []
  }
 ],
 "metadata": {
  "kernelspec": {
   "display_name": "base",
   "language": "python",
   "name": "python3"
  },
  "language_info": {
   "codemirror_mode": {
    "name": "ipython",
    "version": 3
   },
   "file_extension": ".py",
   "mimetype": "text/x-python",
   "name": "python",
   "nbconvert_exporter": "python",
   "pygments_lexer": "ipython3",
   "version": "3.12.7"
  }
 },
 "nbformat": 4,
 "nbformat_minor": 5
}
