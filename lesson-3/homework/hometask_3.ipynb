{
 "cells": [
  {
   "cell_type": "markdown",
   "id": "ccfda6b6",
   "metadata": {},
   "source": [
    "1. Create and Access List Elements\n",
    "Create a list containing five different fruits and print the third fruit.\n",
    "\n"
   ]
  },
  {
   "cell_type": "code",
   "execution_count": null,
   "id": "cf38b445",
   "metadata": {},
   "outputs": [
    {
     "name": "stdout",
     "output_type": "stream",
     "text": [
      "cherry\n"
     ]
    }
   ],
   "source": [
    "fruits = [\"apple\", \"banana\", \"cherry\", \"kivi\", \"mango\"] # fruits degan list yataib oldim \n",
    "print(fruits[2])                                        # uchinchi elementni chop etdim"
   ]
  },
  {
   "cell_type": "markdown",
   "id": "c959ab6d",
   "metadata": {},
   "source": [
    "2. Ikki ro‘yxatni birlashtiring\n",
    "Ikkita raqamlar ro'yxatini yarating va ularni bitta ro'yxatga birlashtiring."
   ]
  },
  {
   "cell_type": "code",
   "execution_count": null,
   "id": "2d7196e1",
   "metadata": {},
   "outputs": [
    {
     "name": "stdout",
     "output_type": "stream",
     "text": [
      "[1, 2, 3, 4, 5, 6, 7, 8, 9, 10, 10, 20, 30, 40, 50, 60, 70, 80, 90, 100]\n"
     ]
    }
   ],
   "source": [
    "number_1 = [1,2,3,4,5,6,7,8,9,10]                   #number_1 degan lisrt yartadim\n",
    "number_2 = [10,20,30,40,50,60,70,80,90,100]         # number_2 degan list yartib oldim\n",
    "add = number_1 + number_2                            # ikkila listlarni qo'shib add degan o'zgaruvchiga yuklab oldim \n",
    "print(add)                                          #add degan o'garuvchini chiqarib oldim "
   ]
  },
  {
   "cell_type": "markdown",
   "id": "f4fbded9",
   "metadata": {},
   "source": [
    "3. Ro‘yxatdan elementlarni ajratib oling\n",
    "Raqamlar ro'yxati berilgan bo'lsa, birinchi, o'rta va oxirgi elementlarni ajratib oling va ularni yangi ro'yxatda saqlang."
   ]
  },
  {
   "cell_type": "code",
   "execution_count": null,
   "id": "9334bb85",
   "metadata": {},
   "outputs": [
    {
     "name": "stdout",
     "output_type": "stream",
     "text": [
      "1\n",
      "100\n",
      "19\n",
      "1 dastlabki element \n",
      "10 o'rtasidagi element \n",
      "100 oxirgi element \n"
     ]
    }
   ],
   "source": [
    "print(add[0]) # add ning dastlabki elementi\n",
    "print(add[-1]) # add ning oxirgi elementi\n",
    "print(len(add[add[0]: add[-1]])) # add ro'yxatining uzunligini chiqarib oldim\n",
    "print(f\"{add[0]} dastlabki element \\n{add[len(add[add[0]: add[-1]])//2]} o'rtasidagi element \\n{add[-1]} oxirgi element \")"
   ]
  },
  {
   "cell_type": "markdown",
   "id": "79f3e270",
   "metadata": {},
   "source": [
    "4. Ro'yxatni Tuplega o'zgartiring\n",
    "Beshta sevimli filmingiz ro'yxatini yarating va uni to'plamga aylantiring."
   ]
  },
  {
   "cell_type": "code",
   "execution_count": null,
   "id": "cadab07d",
   "metadata": {},
   "outputs": [
    {
     "name": "stdout",
     "output_type": "stream",
     "text": [
      "['osh', 'shashlik', 'lagmon', 'manti', 'somsa']\n",
      "<class 'list'>\n",
      "<class 'tuple'>\n"
     ]
    }
   ],
   "source": [
    "cooks = [\"osh\", \"shashlik\", \"lagmon\", \"manti\", \"somsa\"] # cooks degan ro'yxat yaratdim\n",
    "print(cooks) # cooks ro'yxatini chiqarib oldim\n",
    "print(type(cooks)) # cooks ro'yxatining turini tekshirdim\n",
    "conver_cook = tuple(cooks) # cooks ro'yxatini tuple ga aylantirdim\n",
    "print(type(conver_cook)) # conver_cook o'zgaruvchisining turini tekshirdim"
   ]
  },
  {
   "cell_type": "markdown",
   "id": "439b4db3",
   "metadata": {},
   "source": [
    "5. Ro'yxatdagi elementni tekshiring\n",
    "Shaharlar ro'yxatini hisobga olgan holda, \"Parij\" ro'yxatda yoki yo'qligini tekshiring va natijani chop eting."
   ]
  },
  {
   "cell_type": "code",
   "execution_count": null,
   "id": "112be87f",
   "metadata": {},
   "outputs": [
    {
     "name": "stdout",
     "output_type": "stream",
     "text": [
      "['Toshkent', 'Samarqand', 'Buxoro', 'Xiva', 'Andijon', 'Namangan']\n",
      "False\n",
      "False\n"
     ]
    }
   ],
   "source": [
    "cities = [\"Toshkent\", \"Samarqand\", \"Buxoro\", \"Xiva\", \"Andijon\"] # cities degan ro'yxat yaratdim\n",
    "cities.append(\"Namangan\") # cities ro'yxatiga Namangan shahrini qo'shdim\n",
    "print(cities) # cities ro'yxatini chiqarib oldim\n",
    "print(\"Parij\" in cities) # cities ro'yxatida Parij shahri bormi yo'qmi tekshirdim\n"
   ]
  },
  {
   "cell_type": "markdown",
   "id": "08850e76",
   "metadata": {},
   "source": [
    "6. Looplardan foydalanmasdan ro'yxatni ko'paytirish\n",
    "Raqamlar ro'yxatini tuzing va uni ko'chadan foydalanmasdan takrorlang."
   ]
  },
  {
   "cell_type": "markdown",
   "id": "c7c91664",
   "metadata": {},
   "source": []
  },
  {
   "cell_type": "code",
   "execution_count": null,
   "id": "f1fef8a1",
   "metadata": {},
   "outputs": [
    {
     "name": "stdout",
     "output_type": "stream",
     "text": [
      "[10, 20, 30, 40, 50]\n"
     ]
    }
   ],
   "source": [
    "numbers = [10, 20, 30, 40, 50] # numbers degan ro'yxat yaratdim\n",
    "number_copy = numbers.copy() # numbers ro'yxatining nusxasini number_copy ga yukladim\n",
    "print(number_copy) # number_copy ro'yxatini chiqarib oldim"
   ]
  },
  {
   "cell_type": "markdown",
   "id": "4fb574ca",
   "metadata": {},
   "source": [
    "7. Swap First and Last Elements of a List\n",
    "Given a list of numbers, swap the first and last elements.\n",
    "Raqamlar ro'yxatini hisobga olgan holda, birinchi va oxirgi elementlarni almashtiring."
   ]
  },
  {
   "cell_type": "code",
   "execution_count": null,
   "id": "7aef2b9b",
   "metadata": {},
   "outputs": [
    {
     "name": "stdout",
     "output_type": "stream",
     "text": [
      "[5, 2, 3, 4, 1]\n"
     ]
    }
   ],
   "source": [
    "nums  = [1, 2, 3, 4, 5]               # Raqamlar ro'yxati\n",
    "nums[0], nums[-1] = nums[-1], nums[0] # Birinchi va oxirgi elementlarni almashtirish\n",
    "print(nums)                             # Natijani chiqarish"
   ]
  },
  {
   "cell_type": "markdown",
   "id": "2a81a1ac",
   "metadata": {},
   "source": [
    "1 dan 10 gacha raqamlar majmuasini yarating va 3 dan 7 gacha bo'lgan bo'lakni chop eting."
   ]
  },
  {
   "cell_type": "code",
   "execution_count": null,
   "id": "a54095ba",
   "metadata": {},
   "outputs": [
    {
     "name": "stdout",
     "output_type": "stream",
     "text": [
      "(1, 2, 3, 4, 5, 6, 7, 8, 9, 10)\n",
      "(3, 4, 5, 6, 7)\n"
     ]
    }
   ],
   "source": [
    "numbers = tuple(range(1, 11, 1)) # 1 dan 10 gacha bo'lgan sonlardan tuple yaratdim\n",
    "print(numbers) # tuple ni chop etdim\n",
    "print(numbers[2:7]) # tuple ning 3-dan 7-gacha bo'lgan elementlarini chop etdim "
   ]
  },
  {
   "cell_type": "markdown",
   "id": "5dda23ab",
   "metadata": {},
   "source": [
    "Ranglar ro'yxatini tuzing va ro'yxatda \"ko'k\" necha marta paydo bo'lishini hisoblang."
   ]
  },
  {
   "cell_type": "code",
   "execution_count": null,
   "id": "c4db539e",
   "metadata": {},
   "outputs": [
    {
     "name": "stdout",
     "output_type": "stream",
     "text": [
      "['red', 'green', 'blue', 'yellow', 'purple', 'orange', 'pink', 'brown', 'black', 'white']\n",
      "['red', 'green', 'blue', 'yellow', 'purple', 'orange', 'pink', 'brown', 'black', 'white', 'blue']\n",
      "Sizning royhatingizda 2 ta blue rabgi bor\n"
     ]
    }
   ],
   "source": [
    "colors = ['red', 'green', 'blue', 'yellow', 'purple', 'orange', 'pink', 'brown', 'black', 'white'] # ranglar ro'yxati\n",
    "print(colors) # ro'yxatni chiqarish\n",
    "colors.append(\"blue\") # ro'yxatga yana bir dona blue rangini qo'shish\n",
    "print(colors) # yangilangan ro'yxatni chiqarish\n",
    "count_color = colors.count(\"blue\") # ro'yxatda nechta blue rangi borligini hisoblash\n",
    "print(f\"Sizning royhatingizda {count_color} ta blue rangi bor\") # natijani chiqarish"
   ]
  },
  {
   "cell_type": "markdown",
   "id": "032b21b6",
   "metadata": {},
   "source": [
    "##10.Hayvonlar to‘plami berilgan bo‘lsa, “sher” ko‘rsatkichini toping."
   ]
  },
  {
   "cell_type": "code",
   "execution_count": null,
   "id": "339a88a7",
   "metadata": {},
   "outputs": [
    {
     "name": "stdout",
     "output_type": "stream",
     "text": [
      "3\n"
     ]
    }
   ],
   "source": [
    "animal = (\"lion\", \"tiger\", \"elephant\", \"sher\", \"giraffe\", \"zebra\") # Hayvonlar to'plami\n",
    "print(animal.index(\"sher\")) # \"sher\" ko'rsatkichini topish"
   ]
  },
  {
   "cell_type": "markdown",
   "id": "fdbdd578",
   "metadata": {},
   "source": [
    "11. Merge Two Tuples\n",
    "Create two tuples of numbers and merge them into a single tuple."
   ]
  },
  {
   "cell_type": "code",
   "execution_count": null,
   "id": "c221ff7d",
   "metadata": {},
   "outputs": [
    {
     "name": "stdout",
     "output_type": "stream",
     "text": [
      "(5, 10, 15, 20, 25, 30, 35, 40, 45, 50, 2.5, 3.5, 4.5, 5.5, 6.5, 7.5, 8.5, 9.5, 10.5, 11.5)\n",
      "<class 'tuple'>\n",
      "((5, 10, 15, 20, 25, 30, 35, 40, 45, 50), (2.5, 3.5, 4.5, 5.5, 6.5, 7.5, 8.5, 9.5, 10.5, 11.5))\n",
      "<class 'tuple'>\n"
     ]
    }
   ],
   "source": [
    "int_number = (5, 10, 15, 20, 25, 30, 35, 40, 45, 50)                # int_number degan tuple yaratdim\n",
    "float_number = (2.5, 3.5, 4.5, 5.5, 6.5, 7.5, 8.5, 9.5, 10.5, 11.5) # float_number degan tuple yaratdim\n",
    "all_number = int_number + float_number                               # ikkala tuple ni qo'shdim\n",
    "print(all_number)                                                    # all_number ni chop etdim\n",
    "print(type(all_number))                                              # all_number ning turini tekshirdim\n",
    "\n",
    "merged = (int_number, float_number)                                  #` ikkala tuple ni bitta tuple ga joyladim\n",
    "print(merged)                                                        # merged ni chop etdim\n",
    "print(type(merged))                                                  # merged ning turini tekshirdim"
   ]
  },
  {
   "cell_type": "markdown",
   "id": "6d9dc86d",
   "metadata": {},
   "source": [
    "12. Find the Length of a List and Tuple\n",
    "Given a list and a tuple, find and print their lengths.\n",
    "Roʻyxat va kortej berilgan boʻlsa, ularning uzunliklarini toping va chop eting."
   ]
  },
  {
   "cell_type": "code",
   "execution_count": null,
   "id": "fda0851f",
   "metadata": {},
   "outputs": [
    {
     "name": "stdout",
     "output_type": "stream",
     "text": [
      "5\n",
      "5\n"
     ]
    }
   ],
   "source": [
    "fruits = [\"apple\", \"banana\", \"cherry\", \"kivi\", \"mango\"] # fruits degan list yaratib oldim\n",
    "animals = (\"lion\", \"tiger\", \"elephant\", \"giraffe\", \"zebra\") # animals degan tuple yaratib oldim\n",
    "print(len(fruits)) # fruits ro'yxatining uzunligini chiqarib oldim\n",
    "print(len(animals)) # animals tuple ning uzunligini chiqarib oldim"
   ]
  },
  {
   "cell_type": "markdown",
   "id": "622a8c4a",
   "metadata": {},
   "source": [
    "13. Tupleni ro'yxatga aylantiring\n",
    "Beshta raqamdan iborat kortej yarating va uni ro'yxatga aylantiring."
   ]
  },
  {
   "cell_type": "code",
   "execution_count": 100,
   "id": "96d5c886",
   "metadata": {},
   "outputs": [
    {
     "name": "stdout",
     "output_type": "stream",
     "text": [
      "[1, 2, 3, 4, 5]\n"
     ]
    }
   ],
   "source": [
    "number_tuple = (1, 2, 3, 4, 5) # tuple yaratdim\n",
    "converted_number_list = list(number_tuple) # tuple ni list ga aylantirdim\n",
    "print(converted_number_list) #` list ni chop etdim"
   ]
  },
  {
   "cell_type": "markdown",
   "id": "b3f03bce",
   "metadata": {},
   "source": [
    "14. Tupledagi maksimal va minimal qiymatlarni toping\n",
    "Raqamlar majmuasi berilgan, maksimal va minimal qiymatlarni toping va chop eting."
   ]
  },
  {
   "cell_type": "code",
   "execution_count": null,
   "id": "9339d7a3",
   "metadata": {},
   "outputs": [
    {
     "name": "stdout",
     "output_type": "stream",
     "text": [
      "(10, 15, 20, 25, 30, 35, 40, 45, 50, 55, 60, 65, 70, 75, 80, 85, 90, 95)\n",
      "95\n",
      "10\n"
     ]
    }
   ],
   "source": [
    "number_of_tuple = tuple(range(10, 100, 5)) # 10 dan 100 gacha bo'lgan 5 qadam bilan tuple yaratdim\n",
    "print(number_of_tuple) # tuple ni chop etdim\n",
    "import math \n",
    "print(max(number_of_tuple)) # tuple dagi eng katta sonni chop etdim\n",
    "print(min(number_of_tuple)) # tuple dagi eng kichik sonni chop etdim"
   ]
  },
  {
   "cell_type": "markdown",
   "id": "3f073470",
   "metadata": {},
   "source": [
    "15. Tupleni teskari o'zgartirish\n",
    "So'zlar to'plamini yarating va uni teskari tartibda chop eting."
   ]
  },
  {
   "cell_type": "code",
   "execution_count": 113,
   "id": "3ed2f848",
   "metadata": {},
   "outputs": [
    {
     "name": "stdout",
     "output_type": "stream",
     "text": [
      "('learning', 'machine', 'programming', 'python', 'analysis', 'data')\n"
     ]
    }
   ],
   "source": [
    "reversed_words = tuple(reversed(words)) # so'zlar to'plamini teskari o'zgartirish\n",
    "print(reversed_words) # teskari o'zgartirilgan to'plamni chop etish"
   ]
  }
 ],
 "metadata": {
  "kernelspec": {
   "display_name": "base",
   "language": "python",
   "name": "python3"
  },
  "language_info": {
   "codemirror_mode": {
    "name": "ipython",
    "version": 3
   },
   "file_extension": ".py",
   "mimetype": "text/x-python",
   "name": "python",
   "nbconvert_exporter": "python",
   "pygments_lexer": "ipython3",
   "version": "3.12.7"
  }
 },
 "nbformat": 4,
 "nbformat_minor": 5
}
