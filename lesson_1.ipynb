print("Salom Arlonbek dasturlash olamiga xush kelibsan")

