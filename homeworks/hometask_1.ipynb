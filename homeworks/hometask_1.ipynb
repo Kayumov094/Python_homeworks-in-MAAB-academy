{
 "cells": [
  {
   "cell_type": "markdown",
   "id": "d4696715",
   "metadata": {},
   "source": [
    "1-misol: Kvadratning bir tomoni berilgan. Uning perimetri va maydonini toping."
   ]
  },
  {
   "cell_type": "code",
   "execution_count": null,
   "id": "57573127",
   "metadata": {},
   "outputs": [
    {
     "name": "stdout",
     "output_type": "stream",
     "text": [
      "Kvadrat yuzi: 100\n",
      "Kvadrat perimatri: 40\n"
     ]
    }
   ],
   "source": [
    "a = 10\n",
    "# kvadrat yuzi S = a*a\n",
    "print(f\"Kvadrat yuzi: {a*a}\")\n",
    "\n",
    "#kvadrat perimetri P = 4*a\n",
    "print(f\"Kvadrat perimatri: {4*a}\")"
   ]
  },
  {
   "cell_type": "markdown",
   "id": "93ca598f",
   "metadata": {},
   "source": [
    "2-misol Berilgan doira diametri. Uning uzunligini toping."
   ]
  },
  {
   "cell_type": "code",
   "execution_count": null,
   "id": "36da9ee4",
   "metadata": {},
   "outputs": [
    {
     "name": "stdout",
     "output_type": "stream",
     "text": [
      "Doira uzunligi: 62.83185307179586\n",
      "Doira radiusi: 10.0\n"
     ]
    }
   ],
   "source": [
    "d = 20\n",
    "# doira uzunligi L = π*d\n",
    "import math #math kutubxonasini import qilib oldik \n",
    "print(f\"Doira uzunligi: {math.pi*d}\")\n",
    "print(f\"Doira radiusi: {d/2}\")"
   ]
  },
  {
   "cell_type": "markdown",
   "id": "e7143dff",
   "metadata": {},
   "source": [
    "3-misol.Ikkita a va b raqamlari berilgan. Ularning o'rtachasini toping."
   ]
  },
  {
   "cell_type": "code",
   "execution_count": null,
   "id": "bb290e53",
   "metadata": {},
   "outputs": [
    {
     "name": "stdout",
     "output_type": "stream",
     "text": [
      "Berilgan sonlarning o'rtacha qiymati: 20.0\n"
     ]
    }
   ],
   "source": [
    "# mean bu ikki sonni yigindsini ularni tashkil qiluvchilar soniga nisbati bilan aniqlanadi\n",
    "a = 15 \n",
    "b= 25\n",
    " \n",
    "mean = (a+b)/2\n",
    "print(f\"Berilgan sonlarning o'rtacha qiymati: {mean}\")"
   ]
  },
  {
   "cell_type": "markdown",
   "id": "6befa020",
   "metadata": {},
   "source": [
    "4-misol. Given two numbers a and b. Find their sum, product and square of each number.\n",
    "Ikkita a va b raqamlari berilgan. Ularning yig‘indisini, ko‘paytmasini va har bir sonning kvadratini toping."
   ]
  },
  {
   "cell_type": "code",
   "execution_count": 18,
   "id": "7059638c",
   "metadata": {},
   "outputs": [
    {
     "name": "stdout",
     "output_type": "stream",
     "text": [
      "yig'indi 30, ko'paytma 200, a soning kvadrati 100, b sonining kvadrati 400\n"
     ]
    }
   ],
   "source": [
    "a, b = 10, 20\n",
    "print(f\"yig'indi {a + b}, ko'paytma {a*b}, a soning kvadrati {a**2}, b sonining kvadrati {b**2}\")"
   ]
  },
  {
   "cell_type": "code",
   "execution_count": null,
   "id": "abce9b1c",
   "metadata": {},
   "outputs": [],
   "source": []
  }
 ],
 "metadata": {
  "kernelspec": {
   "display_name": "base",
   "language": "python",
   "name": "python3"
  },
  "language_info": {
   "codemirror_mode": {
    "name": "ipython",
    "version": 3
   },
   "file_extension": ".py",
   "mimetype": "text/x-python",
   "name": "python",
   "nbconvert_exporter": "python",
   "pygments_lexer": "ipython3",
   "version": "3.12.7"
  }
 },
 "nbformat": 4,
 "nbformat_minor": 5
}
