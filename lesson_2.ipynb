{
 "cells": [
  {
   "cell_type": "code",
   "execution_count": 6,
   "id": "43bf1194",
   "metadata": {},
   "outputs": [
    {
     "name": "stdout",
     "output_type": "stream",
     "text": [
      "Hello world\n"
     ]
    }
   ],
   "source": [
    "print(\"Hello world\")"
   ]
  },
  {
   "cell_type": "code",
   "execution_count": 9,
   "id": "73abc88f",
   "metadata": {},
   "outputs": [
    {
     "name": "stdout",
     "output_type": "stream",
     "text": [
      "Hello world\n"
     ]
    }
   ],
   "source": [
    "print(\"Hello world\")"
   ]
  },
  {
   "cell_type": "code",
   "execution_count": 4,
   "id": "cc9c3696",
   "metadata": {},
   "outputs": [],
   "source": [
    "name  = 'Arslonbek'"
   ]
  },
  {
   "cell_type": "code",
   "execution_count": 16,
   "id": "595beef5",
   "metadata": {},
   "outputs": [
    {
     "name": "stdout",
     "output_type": "stream",
     "text": [
      "9\n"
     ]
    }
   ],
   "source": [
    "print(len(name))"
   ]
  },
  {
   "cell_type": "code",
   "execution_count": 19,
   "id": "5eed6ea4",
   "metadata": {},
   "outputs": [
    {
     "name": "stdout",
     "output_type": "stream",
     "text": [
      "('olma', 'anor', 'uzum', 'nok', 'behi')\n",
      "5\n",
      "uzum\n"
     ]
    }
   ],
   "source": [
    "meva  = 'olma', 'anor', 'uzum', 'nok', 'behi'\n",
    "print(meva)\n",
    "print(len(meva))\n",
    "print(meva[2])"
   ]
  },
  {
   "cell_type": "code",
   "execution_count": 20,
   "id": "4a6ebe55",
   "metadata": {},
   "outputs": [
    {
     "name": "stdout",
     "output_type": "stream",
     "text": [
      "Hello world\n"
     ]
    }
   ],
   "source": [
    "print(\"Hello world\")"
   ]
  },
  {
   "cell_type": "code",
   "execution_count": 21,
   "id": "6abde58d",
   "metadata": {},
   "outputs": [],
   "source": [
    "product = input(\"Ismingizni kiriting: \")"
   ]
  },
  {
   "cell_type": "code",
   "execution_count": 23,
   "id": "0c397005",
   "metadata": {},
   "outputs": [
    {
     "name": "stdout",
     "output_type": "stream",
     "text": [
      "Arslonbek\n"
     ]
    }
   ],
   "source": [
    "print(product)"
   ]
  },
  {
   "cell_type": "code",
   "execution_count": 24,
   "id": "7417bc5e",
   "metadata": {},
   "outputs": [
    {
     "name": "stdout",
     "output_type": "stream",
     "text": [
      "olma ['banan', 12000, 'olma', 15000, 'uzum', 20000]\n"
     ]
    }
   ],
   "source": [
    "mahsulot = input(\"Nima mahsulot sotib olmoqchisiz?\")\n",
    "narxlar = ['banan', 12000, 'olma', 15000, 'uzum', 20000]\n",
    "print(mahsulot, narxlar)"
   ]
  },
  {
   "cell_type": "code",
   "execution_count": 1,
   "id": "77c3e1a9",
   "metadata": {},
   "outputs": [
    {
     "name": "stdout",
     "output_type": "stream",
     "text": [
      "Hello Arslonbek\n"
     ]
    }
   ],
   "source": [
    "print(\"Hello Arslonbek\")"
   ]
  },
  {
   "cell_type": "code",
   "execution_count": 2,
   "id": "1e8a30d4-f6c5-4ca7-a5ca-ecfcf039f869",
   "metadata": {},
   "outputs": [
    {
     "name": "stdout",
     "output_type": "stream",
     "text": [
      "('Toshkent', 'Samarqannd', 'Andijon')\n"
     ]
    }
   ],
   "source": [
    "shahar = 'Toshkent', 'Samarqannd', 'Andijon'\n",
    "print(shahar)"
   ]
  },
  {
   "cell_type": "code",
   "execution_count": 8,
   "id": "cf0dd192-0094-4d17-bb17-ffe37cb3ce14",
   "metadata": {},
   "outputs": [
    {
     "name": "stdout",
     "output_type": "stream",
     "text": [
      "men quyidagi shaharlarga bordim:('Toshkent', 'Samarqannd', 'Andijon')\n"
     ]
    }
   ],
   "source": [
    "print(f'men quyidagi shaharlarga bordim:{shahar}')"
   ]
  },
  {
   "cell_type": "code",
   "execution_count": null,
   "id": "e5081e66-6a2c-4cca-86bd-94ee04b53042",
   "metadata": {},
   "outputs": [],
   "source": []
  }
 ],
 "metadata": {
  "kernelspec": {
   "display_name": "Python 3 (ipykernel)",
   "language": "python",
   "name": "python3"
  },
  "language_info": {
   "codemirror_mode": {
    "name": "ipython",
    "version": 3
   },
   "file_extension": ".py",
   "mimetype": "text/x-python",
   "name": "python",
   "nbconvert_exporter": "python",
   "pygments_lexer": "ipython3",
   "version": "3.13.2"
  }
 },
 "nbformat": 4,
 "nbformat_minor": 5
}
